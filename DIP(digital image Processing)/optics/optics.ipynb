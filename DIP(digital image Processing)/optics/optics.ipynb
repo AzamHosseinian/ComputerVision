{
 "cells": [
  {
   "cell_type": "markdown",
   "id": "35c4b5d5",
   "metadata": {},
   "source": [
    "<p>\n",
    "    <li> An engineer wishes to image an object 0.01m in height that is 0.20m in front of a lens and have its image appear on a screen 0.40m behind the lens. What focal length lens should they use? How large will the image be? </li></br> </p>\n",
    "    <li> The engineer now wants to image another different object onto a CCD camera. The pixel pitch of the camera is 10pm and it has 512 × 512 pixels. If the object is 0.75m in height and 4m away from the lens what focal length lens should they use to ensure the object fills 90% of field of view? </li> </br>\n",
    "    <li>If two lenses are placed next to each other and the first has a power of 40 diaopters and the second has a power of 10 diaopters. What is the focal length of the system? </li> </br>\n",
    "    <li>An optical system consists of two lenses. The first has a focal length of 60mm and the second has a focal length of 70mm. If they are separated by 200mm find the position of the image after the second lens if the objet is placed 200mm in front of the first lens </li> </p>"
   ]
  },
  {
   "cell_type": "markdown",
   "id": "317fbf6a",
   "metadata": {},
   "source": [
    "# EX01"
   ]
  },
  {
   "cell_type": "markdown",
   "id": "82a5f7d9",
   "metadata": {},
   "source": [
    "To find the focal length of the lens, we can use the thin lens formula:\n",
    "\n",
    "1/f = 1/do + 1/di\n",
    "\n",
    "f is the focal length of the lens\n",
    "\n",
    "1/f = 1/0.20 + 1/0.40\n",
    "\n",
    "1/f = 5 + 2.5  \n",
    " \n",
    "##### the focal length of the lens should be: \n",
    "\n",
    "#### f = 0.13 m\n"
   ]
  },
  {
   "cell_type": "code",
   "execution_count": null,
   "id": "d49b8f9f",
   "metadata": {},
   "outputs": [],
   "source": []
  },
  {
   "cell_type": "markdown",
   "id": "09a3b26c",
   "metadata": {},
   "source": [
    "To find the size of the image, we can use the magnification formula:\n",
    "\n",
    "m = - di/do\n",
    "\n",
    "m is the magnification of the image.\n",
    "\n",
    "m = -0.40/0.20\n",
    "\n",
    "m = -2\n",
    "\n",
    "This means that the image is inverted and twice the size of the object\n",
    "\n",
    "hi = m * ho\n",
    "\n",
    "hi = -2 * 0.01\n",
    "\n",
    "### hi = -0.02 m\n",
    "#### Note that the negative sign indicates that the image is inverted. So the image will be 0.02 m in height and inverted.\n"
   ]
  },
  {
   "cell_type": "code",
   "execution_count": 59,
   "id": "81293e33",
   "metadata": {},
   "outputs": [
    {
     "name": "stdout",
     "output_type": "stream",
     "text": [
      "focal length is 0.13\n",
      "magnification is 2.0 and image size is 0.02\n"
     ]
    }
   ],
   "source": [
    "o=0.2\n",
    "i=0.4\n",
    "temp=1/o+1/i\n",
    "f=1/temp\n",
    "print(\"focal length is {:.2f}\".format(f))\n",
    "##mag=hi/ho=i/o\n",
    "ho=0.01\n",
    "m=(i/o)\n",
    "hi=ho*i/o\n",
    "print (\"magnification is {} and image size is {}\".format(m,hi))"
   ]
  },
  {
   "cell_type": "markdown",
   "id": "bcbc7e03",
   "metadata": {},
   "source": [
    "# EX02"
   ]
  },
  {
   "cell_type": "markdown",
   "id": "6b80a15b",
   "metadata": {},
   "source": [
    "hi = .9 *512 * 10 𝝁 \n",
    "\n",
    "#### hi = 4608 𝝁m\n",
    "\n",
    "\n",
    "m = hi / ho\n",
    "\n",
    "m = 4608 * (10**-6) / .75 \n",
    "\n",
    "m = di / do\n",
    "\n",
    "di = m * do\n",
    "\n",
    "di = (6144 * 10**-6) * 4\n",
    "\n",
    "1/f = 1/ di + 1/do\n",
    "#### f = 24.42 mm\n"
   ]
  },
  {
   "cell_type": "code",
   "execution_count": null,
   "id": "77244409",
   "metadata": {},
   "outputs": [],
   "source": []
  },
  {
   "cell_type": "markdown",
   "id": "a64b3e37",
   "metadata": {},
   "source": [
    "# EX03"
   ]
  },
  {
   "cell_type": "markdown",
   "id": "d84476a9",
   "metadata": {},
   "source": [
    "P_comb = P_1 + P_2\n",
    "\n",
    "\n",
    "P_comb = 40 + 10\n",
    "\n",
    "#### P_comb = 50 diopters\n",
    "\n",
    "The focal length of a lens:\n",
    "\n",
    "f = 1/P\n",
    "\n",
    "f is the focal length\n",
    "\n",
    "P is the power of the lens\n",
    "\n",
    "f = 1/P_comb\n",
    "\n",
    "f = 1/50 diopters\n",
    "\n",
    "#### f = 0.02 meters or 20 mm\n",
    "\n",
    "#### he focal length is 20 mm."
   ]
  },
  {
   "cell_type": "code",
   "execution_count": null,
   "id": "00d654cf",
   "metadata": {},
   "outputs": [],
   "source": []
  },
  {
   "cell_type": "markdown",
   "id": "3d48203e",
   "metadata": {},
   "source": [
    "## EX04"
   ]
  },
  {
   "cell_type": "markdown",
   "id": "00329b40",
   "metadata": {},
   "source": [
    "Use the thin lens formula to find the position of the image after the first lens:\n",
    "\n",
    "1/f1 = 1/do + 1/di\n",
    "\n",
    "\n",
    "1/60 = 1/200 + 1/di\n",
    "\n",
    "1/di = 1/60 - 1/200\n",
    "\n",
    "##### d_i = 85.714 mm\n",
    "\n",
    "Use the thin lens formula again to find the position of the image after the second lens:\n",
    "\n",
    "1/f2 = 1/di + 1/do\n",
    "\n",
    "#### do  :\n",
    "200 mm – 85.714 mm = 114.286 mm\n",
    "\n",
    "1/70 = 1/di + 1/114.286\n",
    "\n",
    "1/di = 1/70 - 1/114.3\n",
    "\n",
    "##### di is the distance from the second lens to the final image\n",
    "#### di = 180.644    "
   ]
  },
  {
   "cell_type": "code",
   "execution_count": 58,
   "id": "a0247802",
   "metadata": {},
   "outputs": [
    {
     "name": "stdout",
     "output_type": "stream",
     "text": [
      "distance of second image from second lens is 180.645\n"
     ]
    }
   ],
   "source": [
    "o1=200\n",
    "f1=60\n",
    "\n",
    "#1/f1=1/o1+1/i1 \n",
    "# --> 1/f1 = m\n",
    "\n",
    "m =1/f1-1/o1\n",
    "i1=1/m \n",
    "o2=200-i1\n",
    "f2=70\n",
    "m1=1/f2-1/o2\n",
    "i2=1/m1\n",
    "print('distance of second image from second lens is {:.3f}'.format(i2))"
   ]
  }
 ],
 "metadata": {
  "kernelspec": {
   "display_name": "Python 3 (ipykernel)",
   "language": "python",
   "name": "python3"
  },
  "language_info": {
   "codemirror_mode": {
    "name": "ipython",
    "version": 3
   },
   "file_extension": ".py",
   "mimetype": "text/x-python",
   "name": "python",
   "nbconvert_exporter": "python",
   "pygments_lexer": "ipython3",
   "version": "3.9.13"
  }
 },
 "nbformat": 4,
 "nbformat_minor": 5
}
