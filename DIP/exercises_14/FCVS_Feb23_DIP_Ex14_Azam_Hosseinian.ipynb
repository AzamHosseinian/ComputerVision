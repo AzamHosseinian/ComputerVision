{
 "cells": [
  {
   "cell_type": "code",
   "execution_count": null,
   "id": "4f2867df",
   "metadata": {},
   "outputs": [],
   "source": []
  },
  {
   "cell_type": "code",
   "execution_count": 5,
   "id": "faf885cf",
   "metadata": {},
   "outputs": [
    {
     "name": "stdout",
     "output_type": "stream",
     "text": [
      "List has been written to Ex_01_Files.txt!\n"
     ]
    }
   ],
   "source": [
    "import os\n",
    "import cv2\n",
    "\n",
    "# step 1: list all files in the folder\n",
    "folder_path = \"/dataset/images\"\n",
    "image_files = os.listdir(folder_path)\n",
    "\n",
    "# step 2: iterate over each image file\n",
    "for image_file in image_files:\n",
    "    # step 3: load image and check color space\n",
    "    image_path = os.path.join(folder_path, image_file)\n",
    "    image = cv2.imread(image_path)\n",
    "    color_space = cv2.cvtColor(image, cv2.COLOR_BGR2GRAY)\n",
    "\n",
    "    # step 4: perform color space conversion and contrast calculation\n",
    "    if len(color_space.shape) == 3:\n",
    "        gray = cv2.cvtColor(image, cv2.COLOR_BGR2GRAY)\n",
    "        contrast = cv2.bitwise_not(gray)\n",
    "    elif len(color_space.shape) == 2:\n",
    "        _, binary = cv2.threshold(color_space, 127, 255, cv2.THRESH_BINARY)\n",
    "        contrast = cv2.bitwise_not(binary)\n",
    "    else:\n",
    "        contrast = cv2.bitwise_not(color_space)\n",
    "\n",
    "    # step 5: save the contrast image\n",
    "    contrast_path = os.path.join(folder_path, \"contrast_\" + image_file)\n",
    "    cv2.imwrite(contrast_path, contrast)"
   ]
  },
  {
   "cell_type": "code",
   "execution_count": null,
   "id": "a16174bb",
   "metadata": {},
   "outputs": [],
   "source": []
  },
  {
   "cell_type": "code",
   "execution_count": null,
   "id": "5b99793f",
   "metadata": {},
   "outputs": [],
   "source": []
  }
 ],
 "metadata": {
  "kernelspec": {
   "display_name": "Python 3 (ipykernel)",
   "language": "python",
   "name": "python3"
  },
  "language_info": {
   "codemirror_mode": {
    "name": "ipython",
    "version": 3
   },
   "file_extension": ".py",
   "mimetype": "text/x-python",
   "name": "python",
   "nbconvert_exporter": "python",
   "pygments_lexer": "ipython3",
   "version": "3.9.13"
  }
 },
 "nbformat": 4,
 "nbformat_minor": 5
}
